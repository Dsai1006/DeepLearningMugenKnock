{
 "cells": [
  {
   "cell_type": "code",
   "execution_count": 9,
   "metadata": {},
   "outputs": [],
   "source": [
    "import torch\n",
    "import torch.nn.functional as F"
   ]
  },
  {
   "cell_type": "code",
   "execution_count": 10,
   "metadata": {},
   "outputs": [],
   "source": [
    "import cv2\n",
    "import numpy as np\n",
    "from glob import glob"
   ]
  },
  {
   "cell_type": "code",
   "execution_count": 11,
   "metadata": {
    "scrolled": true
   },
   "outputs": [
    {
     "data": {
      "text/plain": [
       "<torch._C.Generator at 0x113689830>"
      ]
     },
     "execution_count": 11,
     "metadata": {},
     "output_type": "execute_result"
    }
   ],
   "source": [
    "num_classes = 2\n",
    "img_height, img_width = 64, 64\n",
    "GPU = False\n",
    "torch.manual_seed(0)"
   ]
  },
  {
   "cell_type": "markdown",
   "metadata": {},
   "source": [
    "## モデル定義\n",
    "initには学習するパラメータが必要なlayerを書く．"
   ]
  },
  {
   "cell_type": "code",
   "execution_count": 12,
   "metadata": {},
   "outputs": [],
   "source": [
    "class Mynet(torch.nn.Module):\n",
    "    def __init__(self):\n",
    "        super(Mynet, self).__init__()\n",
    "        self.conv1_1 = torch.nn.Conv2d(3, 32, kernel_size=3, padding=1)\n",
    "        self.bn1_1 = torch.nn.BatchNorm2d(32)\n",
    "        self.conv1_2 = torch.nn.Conv2d(32, 32, kernel_size=3, padding=1)\n",
    "        self.bn1_2 = torch.nn.BatchNorm2d(32)\n",
    "        self.conv2_1 = torch.nn.Conv2d(32, 64, kernel_size=3, padding=1)\n",
    "        self.bn2_1 = torch.nn.BatchNorm2d(64)\n",
    "        self.conv2_2 = torch.nn.Conv2d(64, 64, kernel_size=3, padding=1)\n",
    "        self.bn2_2 = torch.nn.BatchNorm2d(64)\n",
    "        self.conv3_1 = torch.nn.Conv2d(64, 128, kernel_size=3, padding=1)\n",
    "        self.bn3_1 = torch.nn.BatchNorm2d(128)\n",
    "        self.conv3_2 = torch.nn.Conv2d(128, 128, kernel_size=3, padding=1)\n",
    "        self.bn3_2 = torch.nn.BatchNorm2d(128)\n",
    "        self.conv4_1 = torch.nn.Conv2d(128, 256, kernel_size=3, padding=1)\n",
    "        self.bn4_1 = torch.nn.BatchNorm2d(256)\n",
    "        self.conv4_2 = torch.nn.Conv2d(256, 256, kernel_size=3, padding=1)\n",
    "        self.bn4_2 = torch.nn.BatchNorm2d(256)\n",
    "        self.fc1 = torch.nn.Linear(img_height//16 * img_width//16 * 256, 512)\n",
    "        #self.fc1_d = torch.nn.Dropout2d()\n",
    "        self.fc2 = torch.nn.Linear(512, 512)\n",
    "        self.fc_out = torch.nn.Linear(512, num_classes)\n",
    "\n",
    "    def forward(self, x):\n",
    "        x = F.relu(self.bn1_1(self.conv1_1(x)))\n",
    "        x = F.relu(self.bn1_2(self.conv1_2(x)))\n",
    "        x = F.max_pool2d(x, 2)\n",
    "        x = F.relu(self.bn2_1(self.conv2_1(x)))\n",
    "        x = F.relu(self.bn2_2(self.conv2_2(x)))\n",
    "        x = F.max_pool2d(x, 2)\n",
    "        x = F.relu(self.bn3_1(self.conv3_1(x)))\n",
    "        x = F.relu(self.bn3_2(self.conv3_2(x)))\n",
    "        x = F.max_pool2d(x, 2)\n",
    "        x = F.relu(self.bn4_1(self.conv4_1(x)))\n",
    "        x = F.relu(self.bn4_2(self.conv4_2(x)))\n",
    "        x = F.max_pool2d(x, 2)\n",
    "        x = x.view(-1, img_height//16 * img_width // 16 * 256)\n",
    "        x = F.relu(self.fc1(x))\n",
    "        #x = self.fc1_d(x)\n",
    "        x = F.relu(self.fc2(x))\n",
    "        x = self.fc_out(x)\n",
    "        return x"
   ]
  },
  {
   "cell_type": "markdown",
   "metadata": {},
   "source": [
    "## データセット用意"
   ]
  },
  {
   "cell_type": "code",
   "execution_count": 13,
   "metadata": {},
   "outputs": [],
   "source": [
    "def data_load():\n",
    "    xs = np.ndarray((0, img_height, img_width, 3))\n",
    "    ts = np.ndarray((0))\n",
    "    \n",
    "    for dir_path in glob('../Dataset/train/images/*'):\n",
    "        for path in glob(dir_path + '/*'):\n",
    "            x = cv2.imread(path)\n",
    "            x = cv2.resize(x, (img_width, img_height)).astype(np.float32)\n",
    "            x /= 255.\n",
    "            xs = np.r_[xs, x[None, ...]]\n",
    "\n",
    "            t = np.zeros((1))\n",
    "            if 'akahara' in path:\n",
    "                t = np.array((0))\n",
    "            elif 'madara' in path:\n",
    "                t = np.array((1))\n",
    "            ts = np.r_[ts, t]\n",
    "\n",
    "    xs = xs.transpose(0,3,1,2)\n",
    "\n",
    "    return xs, ts"
   ]
  },
  {
   "cell_type": "markdown",
   "metadata": {},
   "source": [
    "## トレーニング"
   ]
  },
  {
   "cell_type": "code",
   "execution_count": 14,
   "metadata": {},
   "outputs": [],
   "source": [
    "def train():\n",
    "    device = torch.device(\"cuda\" if GPU else \"cpu\")\n",
    "    \n",
    "    #model\n",
    "    model = Mynet().to(device)\n",
    "    opt = torch.optim.SGD(model.parameters(), lr=0.01, momentum=0.9)\n",
    "    \n",
    "    #トレーニングモードに変更\n",
    "    model.train()\n",
    "    \n",
    "    xs, ts = data_load()\n",
    "    \n",
    "    #training\n",
    "    mb = 8\n",
    "    mbi = 0\n",
    "    train_ind = np.arange(len(xs))\n",
    "    np.random.seed(0)\n",
    "    np.random.shuffle(train_ind)\n",
    "    \n",
    "    for i in range(100):\n",
    "        if mbi + mb > len(xs):\n",
    "            mb_ind = train_ind[mbi:]\n",
    "            np.random.shuffle(train_ind)\n",
    "            mb_ind = np.hstack((mb_ind, train_ind[:(mb-(len(xs)-mbi))]))\n",
    "        else:\n",
    "            mb_ind = train_ind[mbi:mbi+mb]\n",
    "            mbi += mb\n",
    "            \n",
    "        x = torch.tensor(xs[mb_ind], dtype=torch.float).to(device)\n",
    "        t = torch.tensor(ts[mb_ind], dtype=torch.long).to(device)\n",
    "        \n",
    "        opt.zero_grad()\n",
    "        y = model(x)\n",
    "        y = F.log_softmax(y, dim=1)\n",
    "        loss = torch.nn.CrossEntropyLoss()(y, t)\n",
    "        loss.backward()\n",
    "        opt.step()\n",
    "        \n",
    "        pred = y.argmax(dim=1, keepdim=True)\n",
    "        acc = pred.eq(t.view_as(pred)).sum().item() / mb\n",
    "        \n",
    "        print(\"iter >>\", i+1, ',loss >>', loss.item(), ',accuracy >>', acc)\n",
    "        \n",
    "    torch.save(model.state_dict(), \"cnn.pt\")"
   ]
  },
  {
   "cell_type": "code",
   "execution_count": 15,
   "metadata": {},
   "outputs": [],
   "source": [
    "def test():\n",
    "    device = torch.device(\"cuda\" if GPU else \"cpu\")\n",
    "    model = Mynet().to(device)\n",
    "    model.eval()\n",
    "    model.load_state_dict(torch.load(\"cnn.pt\"))\n",
    "    \n",
    "    for dir_path in glob('../Dataset/test/images/*'):\n",
    "        for path in glob(dir_path + '/*'):\n",
    "            x = cv2.imread(path)\n",
    "            x = cv2.resize(x, (img_width, img_height)).astype(np.float32)\n",
    "            x /= 255.\n",
    "            x = x.transpose(2, 0, 1)\n",
    "            x = np.expand_dims(x, axis=0)\n",
    "            x = torch.tensor(x, dtype=torch.float).to(device)\n",
    "            \n",
    "            pred = model(x)\n",
    "            pred = F.softmax(pred, dim=1).detach().cpu().numpy()[0]\n",
    "            \n",
    "            print(\"in {}, predicted probabilities >> {}\".format(path, pred))"
   ]
  },
  {
   "cell_type": "code",
   "execution_count": null,
   "metadata": {},
   "outputs": [],
   "source": []
  }
 ],
 "metadata": {
  "kernelspec": {
   "display_name": "pytorch",
   "language": "python",
   "name": "pytorch"
  },
  "language_info": {
   "codemirror_mode": {
    "name": "ipython",
    "version": 3
   },
   "file_extension": ".py",
   "mimetype": "text/x-python",
   "name": "python",
   "nbconvert_exporter": "python",
   "pygments_lexer": "ipython3",
   "version": "3.6.0"
  }
 },
 "nbformat": 4,
 "nbformat_minor": 2
}
