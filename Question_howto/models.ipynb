{
 "cells": [
  {
   "cell_type": "markdown",
   "metadata": {},
   "source": [
    "# 色んなモデルを実装していく"
   ]
  },
  {
   "cell_type": "code",
   "execution_count": 1,
   "metadata": {},
   "outputs": [],
   "source": [
    "import torch\n",
    "import torch.nn.functional as F\n",
    "import numpy as np\n",
    "from glob import glob\n",
    "import cv2"
   ]
  },
  {
   "cell_type": "code",
   "execution_count": 2,
   "metadata": {},
   "outputs": [
    {
     "data": {
      "text/plain": [
       "<torch._C.Generator at 0x116e0b7f0>"
      ]
     },
     "execution_count": 2,
     "metadata": {},
     "output_type": "execute_result"
    }
   ],
   "source": [
    "num_classes = 2\n",
    "img_height, img_width = 32, 32\n",
    "channel = 3\n",
    "GPU = False\n",
    "torch.manual_seed(0)"
   ]
  },
  {
   "cell_type": "code",
   "execution_count": 3,
   "metadata": {},
   "outputs": [],
   "source": [
    "def data_load():\n",
    "    xs = np.ndarray((0, img_height, img_width, 3))\n",
    "    ts = np.ndarray((0))\n",
    "    \n",
    "    for dir_path in glob('../Dataset/train/images/*'):\n",
    "        for path in glob(dir_path + '/*'):\n",
    "            x = cv2.imread(path)\n",
    "            x = cv2.resize(x, (img_width, img_height)).astype(np.float32)\n",
    "            x /= 255.\n",
    "            xs = np.r_[xs, x[None, ...]]\n",
    "\n",
    "            t = np.zeros((1))\n",
    "            if 'akahara' in path:\n",
    "                t = np.array((0))\n",
    "            elif 'madara' in path:\n",
    "                t = np.array((1))\n",
    "            ts = np.r_[ts, t]\n",
    "\n",
    "    xs = xs.transpose(0,3,1,2)\n",
    "\n",
    "    return xs, ts"
   ]
  },
  {
   "cell_type": "code",
   "execution_count": 4,
   "metadata": {},
   "outputs": [],
   "source": [
    "def train():\n",
    "    device = torch.device(\"cuda\" if GPU else \"cpu\")\n",
    "    \n",
    "    #model\n",
    "    model = Mynet().to(device)\n",
    "    opt = torch.optim.SGD(model.parameters(), lr=0.01, momentum=0.9)\n",
    "    \n",
    "    #トレーニングモードに変更\n",
    "    model.train()\n",
    "    \n",
    "    xs, ts = data_load()\n",
    "    \n",
    "    #training\n",
    "    mb = 8\n",
    "    mbi = 0\n",
    "    train_ind = np.arange(len(xs))\n",
    "    np.random.seed(0)\n",
    "    np.random.shuffle(train_ind)\n",
    "    \n",
    "    for i in range(100):\n",
    "        if mbi + mb > len(xs):\n",
    "            mb_ind = train_ind[mbi:]\n",
    "            np.random.shuffle(train_ind)\n",
    "            mb_ind = np.hstack((mb_ind, train_ind[:(mb-(len(xs)-mbi))]))\n",
    "        else:\n",
    "            mb_ind = train_ind[mbi:mbi+mb]\n",
    "            mbi += mb\n",
    "            \n",
    "        x = torch.tensor(xs[mb_ind], dtype=torch.float).to(device)\n",
    "        t = torch.tensor(ts[mb_ind], dtype=torch.long).to(device)\n",
    "        \n",
    "        opt.zero_grad()\n",
    "        y = model(x)\n",
    "        y = F.log_softmax(y, dim=1)\n",
    "        loss = torch.nn.CrossEntropyLoss()(y, t)\n",
    "        loss.backward()\n",
    "        opt.step()\n",
    "        \n",
    "        pred = y.argmax(dim=1, keepdim=True)\n",
    "        acc = pred.eq(t.view_as(pred)).sum().item() / mb\n",
    "        \n",
    "        print(\"iter >>\", i+1, ',loss >>', loss.item(), ',accuracy >>', acc)\n",
    "        \n",
    "    torch.save(model.state_dict(), \"cnn.pt\")"
   ]
  },
  {
   "cell_type": "code",
   "execution_count": 5,
   "metadata": {},
   "outputs": [],
   "source": [
    "def test():\n",
    "    device = torch.device(\"cuda\" if GPU else \"cpu\")\n",
    "    model = Mynet().to(device)\n",
    "    model.eval()\n",
    "    model.load_state_dict(torch.load(\"cnn.pt\"))\n",
    "    \n",
    "    for dir_path in glob('../Dataset/test/images/*'):\n",
    "        for path in glob(dir_path + '/*'):\n",
    "            x = cv2.imread(path)\n",
    "            x = cv2.resize(x, (img_width, img_height)).astype(np.float32)\n",
    "            x /= 255.\n",
    "            x = x.transpose(2, 0, 1)\n",
    "            x = np.expand_dims(x, axis=0)\n",
    "            x = torch.tensor(x, dtype=torch.float).to(device)\n",
    "            \n",
    "            pred = model(x)\n",
    "            pred = F.softmax(pred, dim=1).detach().cpu().numpy()[0]\n",
    "            \n",
    "            print(\"in {}, predicted probabilities >> {}\".format(path, pred))"
   ]
  },
  {
   "cell_type": "markdown",
   "metadata": {},
   "source": [
    "#### トレーニング，テスト時はモデル名の書いてある部分を全てMynetに変えれば動きます"
   ]
  },
  {
   "cell_type": "markdown",
   "metadata": {},
   "source": [
    "## LeNet"
   ]
  },
  {
   "cell_type": "code",
   "execution_count": 6,
   "metadata": {},
   "outputs": [],
   "source": [
    "class LeNet(torch.nn.Module):\n",
    "    def __init__(self):\n",
    "        super(LeNet, self).__init__()\n",
    "        self.conv1 = torch.nn.Conv2d(channel, 6, kernel_size=5, padding=0)\n",
    "        self.conv2 = torch.nn.Conv2d(6, 16, kernel_size=5, padding=0)\n",
    "        self.fc1 = torch.nn.Linear(5*5*16, 120)\n",
    "        self.fc2 = torch.nn.Linear(120, 64)\n",
    "        self.fc_out = torch.nn.Linear(64, 2)\n",
    "        \n",
    "    def forward(self, x):\n",
    "        x = self.conv1(x)\n",
    "        x = F.sigmoid(F.max_pool2d(x, 2))\n",
    "        x = self.conv2(x)\n",
    "        x = F.sigmoid(F.max_pool2d(x, 2))\n",
    "        x = x.view(-1, 5*5*16)\n",
    "        x = self.fc1(x)\n",
    "        x = self.fc2(x)\n",
    "        x = self.fc_out(x)\n",
    "        x = F.softmax(x, dim=1)\n",
    "        \n",
    "        return x"
   ]
  },
  {
   "cell_type": "markdown",
   "metadata": {},
   "source": [
    "## AlexNet"
   ]
  },
  {
   "cell_type": "code",
   "execution_count": 9,
   "metadata": {},
   "outputs": [],
   "source": [
    "class AlexNet(torch.nn.Module):\n",
    "    def __init__(self):\n",
    "        super(AlexNet, self).__init__()\n",
    "        self.conv1 = torch.nn.Conv2d(channel, 96, kernel_size=11, stride=4, padding=0)\n",
    "        self.conv2 = torch.nn.Conv2d(96, 256, kernel_size=5, stride=1, padding=0)\n",
    "        self.conv3 = torch.nn.Conv2d(256, 384, kernel_size=3, stride=1, padding=1)\n",
    "        self.conv4 = torch.nn.Conv2d(384, 384, kernel_size=3, stride=1, padding=1)\n",
    "        self.conv5 = torch.nn.Conv2d(384, 256, kernel_size=3, stride=1, padding=1)\n",
    "        self.fc1 = torch.nn.Linear(6*6*256, 4096)\n",
    "        self.fc2 = torch.nn.Linear(4096, 4096)\n",
    "        self.fc_out = torch.nn.Linear(4096, 2)\n",
    "        \n",
    "    def forward(self, x):\n",
    "        x = F.relu(self.conv1(x))\n",
    "        x = torch.nn.modules.normalization.LocalResposeNorm(size=1)(x)\n",
    "        x = F.max_pool2d(x, 3, stride=2)\n",
    "        x = F.relu(self.conv2(x))\n",
    "        x = torch.nn.modules.normalization.LocalResponseNorm(size=1)(x)\n",
    "        x = F.max_pool2d(x, 3, stride=2)\n",
    "        x = F.max_pool2d(x, 2)\n",
    "        x = F.relu(self.conv3(x))\n",
    "        x = F.relu(self.conv4(x))\n",
    "        x = F.relu(self.conv5(x))\n",
    "        x = x.view(-1, 6*6*256)\n",
    "        x = F.relu(self.fc1(x))\n",
    "        x = torch.nn.Dropout()(x)\n",
    "        x = F.relu(self.fc2(x))\n",
    "        x = torch.nn.Dropout()(x)\n",
    "        x = self.fc_out(x)\n",
    "        x = F.softmax(x, dim=1)\n",
    "        return x"
   ]
  },
  {
   "cell_type": "code",
   "execution_count": null,
   "metadata": {},
   "outputs": [],
   "source": []
  },
  {
   "cell_type": "markdown",
   "metadata": {},
   "source": [
    "## GAN"
   ]
  },
  {
   "cell_type": "code",
   "execution_count": 10,
   "metadata": {},
   "outputs": [],
   "source": [
    "class Generator(torch.nn.Module):\n",
    "    def __init__(self):\n",
    "        super(Generator, self).__init__()\n",
    "        self.fc1 = torch.nn.Linear(100, 128)\n",
    "        self.fc2 = torch.nn.Linear(128, 256)\n",
    "        self.fc3 = torch.nn.Linear(256, 512)\n",
    "        self.fc_out = torch.nn.Linear(512, img_width*img_height*channel)\n",
    "        \n",
    "    def forward(self, x):\n",
    "        x = F.leaky_relu(self.fc1(x), 0.2)\n",
    "        x = F.leaky_relu(self.fc2(x), 0.2)\n",
    "        x = F.leaky_relu(self.fc3(x), 0.2)\n",
    "        x = F.sigmoid(self.fc1(x))\n",
    "        return x\n",
    "    \n",
    "class Discriminator(torch.nn.Module):\n",
    "    def __init__(self):\n",
    "        super(Discriminator, self).__init__()\n",
    "        self.l1 = torch.nn.Linear(img_height * img_width * channel, 512)\n",
    "        self.l2 = torch.nn.Linear(512, 256)\n",
    "        self.l3 = torch.nn.Linear(256, 1)\n",
    "\n",
    "    def forward(self, x):\n",
    "        x = self.l1(x)\n",
    "        x = torch.nn.functional.leaky_relu(x, 0.2)\n",
    "        x = self.l2(x)\n",
    "        x = torch.nn.functional.leaky_relu(x, 0.2)\n",
    "        x = self.l3(x)\n",
    "        x = torch.nn.functional.sigmoid(x)\n",
    "        return x\n",
    "    "
   ]
  },
  {
   "cell_type": "code",
   "execution_count": null,
   "metadata": {},
   "outputs": [],
   "source": []
  }
 ],
 "metadata": {
  "kernelspec": {
   "display_name": "pytorch",
   "language": "python",
   "name": "pytorch"
  },
  "language_info": {
   "codemirror_mode": {
    "name": "ipython",
    "version": 3
   },
   "file_extension": ".py",
   "mimetype": "text/x-python",
   "name": "python",
   "nbconvert_exporter": "python",
   "pygments_lexer": "ipython3",
   "version": "3.6.0"
  }
 },
 "nbformat": 4,
 "nbformat_minor": 2
}
